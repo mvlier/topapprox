{
  "nbformat": 4,
  "nbformat_minor": 0,
  "metadata": {
    "colab": {
      "provenance": [],
      "authorship_tag": "ABX9TyOuVUjb37iv2hrcJPzUDs5U",
      "include_colab_link": true
    },
    "kernelspec": {
      "name": "python3",
      "display_name": "Python 3"
    },
    "language_info": {
      "name": "python"
    }
  },
  "cells": [
    {
      "cell_type": "markdown",
      "metadata": {
        "id": "view-in-github",
        "colab_type": "text"
      },
      "source": [
        "<a href=\"https://colab.research.google.com/github/mvlier/topapprox/blob/main/Interactive_Tutorial_topapprox.ipynb\" target=\"_parent\"><img src=\"https://colab.research.google.com/assets/colab-badge.svg\" alt=\"Open In Colab\"/></a>"
      ]
    },
    {
      "cell_type": "markdown",
      "source": [
        "#Install the current topapprox package\n",
        "\n",
        "This may take around a minute."
      ],
      "metadata": {
        "id": "5OGEPkUodcMI"
      }
    },
    {
      "cell_type": "code",
      "execution_count": null,
      "metadata": {
        "colab": {
          "base_uri": "https://localhost:8080/"
        },
        "id": "pPxv2W0Xcvlc",
        "outputId": "b38e1799-1d2e-4512-a932-00ed01702bd8"
      },
      "outputs": [
        {
          "output_type": "stream",
          "name": "stdout",
          "text": [
            "Collecting git+https://github.com/mvlier/topapprox@main\n",
            "  Cloning https://github.com/mvlier/topapprox (to revision main) to /tmp/pip-req-build-2r3l1eq7\n",
            "  Running command git clone --filter=blob:none --quiet https://github.com/mvlier/topapprox /tmp/pip-req-build-2r3l1eq7\n",
            "  Resolved https://github.com/mvlier/topapprox to commit cf2c630bf7a709d20f7bc7d21abae4959e5124fc\n",
            "  Installing build dependencies ... \u001b[?25l\u001b[?25hdone\n",
            "  Getting requirements to build wheel ... \u001b[?25l\u001b[?25hdone\n",
            "  Preparing metadata (pyproject.toml) ... \u001b[?25l\u001b[?25hdone\n",
            "Building wheels for collected packages: topapprox\n",
            "  Building wheel for topapprox (pyproject.toml) ... \u001b[?25l\u001b[?25hdone\n",
            "  Created wheel for topapprox: filename=topapprox-0.0.1-py3-none-any.whl size=8141 sha256=849f5143b694f33a885a5b4f6cdb21a6e45b1195ce68d0f11c8a6c7fc2811166\n",
            "  Stored in directory: /tmp/pip-ephem-wheel-cache-kbrz15wt/wheels/49/17/71/71c98f055e9b71cd32cab64370e89376d750f95bf7f991d9c2\n",
            "Successfully built topapprox\n",
            "Installing collected packages: topapprox\n",
            "Successfully installed topapprox-0.0.1\n"
          ]
        }
      ],
      "source": [
        "!pip install git+https://github.com/mvlier/topapprox@main"
      ]
    },
    {
      "cell_type": "markdown",
      "source": [
        "#Tutorial"
      ],
      "metadata": {
        "id": "PPHdeKVud3Vs"
      }
    },
    {
      "cell_type": "markdown",
      "source": [
        "Import the package."
      ],
      "metadata": {
        "id": "v8mOQ-eKeiSK"
      }
    },
    {
      "cell_type": "code",
      "source": [
        "import topapprox as ta"
      ],
      "metadata": {
        "id": "iIznsubAdPt-"
      },
      "execution_count": null,
      "outputs": []
    },
    {
      "cell_type": "markdown",
      "source": [
        "Import other necessary packages for this tutorial."
      ],
      "metadata": {
        "id": "1JOHCm81el3u"
      }
    },
    {
      "cell_type": "code",
      "source": [
        "import numpy as np\n",
        "import seaborn as sns\n",
        "import matplotlib as mpl"
      ],
      "metadata": {
        "id": "BXZP6XC-eITD"
      },
      "execution_count": null,
      "outputs": []
    },
    {
      "cell_type": "markdown",
      "source": [
        "##  Toy example 2D image"
      ],
      "metadata": {
        "id": "mcGm02Fhe7br"
      }
    },
    {
      "cell_type": "markdown",
      "metadata": {
        "id": "3fCA0LcOsgUt"
      },
      "source": [
        "We can construct an image by setting the values of each pixel as follows."
      ]
    },
    {
      "cell_type": "code",
      "execution_count": null,
      "metadata": {
        "id": "3xAemelfsuOs"
      },
      "outputs": [],
      "source": [
        "img = np.array([[0, 5, 3],\\\n",
        "                [5,5.1,4],\\\n",
        "                [2, 5, 1]])"
      ]
    },
    {
      "cell_type": "markdown",
      "source": [
        "And we can visualize the image with seaborn as follows."
      ],
      "metadata": {
        "id": "1wj2wRLafL-Y"
      }
    },
    {
      "cell_type": "code",
      "source": [
        "sns.heatmap(img, annot=True, linewidths=0.5, square=True, yticklabels=False, xticklabels=False, annot_kws={\"fontsize\":18})"
      ],
      "metadata": {
        "colab": {
          "base_uri": "https://localhost:8080/",
          "height": 432
        },
        "id": "7r0fcccwfISJ",
        "outputId": "c92b004c-2edf-419d-9c14-fcf94a3391e5"
      },
      "execution_count": null,
      "outputs": [
        {
          "output_type": "execute_result",
          "data": {
            "text/plain": [
              "<Axes: >"
            ]
          },
          "metadata": {},
          "execution_count": 5
        },
        {
          "output_type": "display_data",
          "data": {
            "text/plain": [
              "<Figure size 640x480 with 2 Axes>"
            ],
            "image/png": "[encoded data removed]"
          },
          "metadata": {}
        }
      ]
    },
    {
      "cell_type": "code",
      "source": [
        "uf = ta.UnionFindImg(img, dual=True)"
      ],
      "metadata": {
        "id": "D25BnY7SfJT5"
      },
      "execution_count": null,
      "outputs": []
    },
    {
      "cell_type": "code",
      "source": [
        "uf.compute(3.2)"
      ],
      "metadata": {
        "colab": {
          "base_uri": "https://localhost:8080/"
        },
        "id": "iZwknLtgfijD",
        "outputId": "690f210c-4f6f-4e6d-8c90-0a9a445ccef6"
      },
      "execution_count": null,
      "outputs": [
        {
          "output_type": "execute_result",
          "data": {
            "text/plain": [
              "array([[0., 5., 3.],\n",
              "       [5., 5., 4.],\n",
              "       [2., 5., 1.]])"
            ]
          },
          "metadata": {},
          "execution_count": 7
        }
      ]
    },
    {
      "cell_type": "code",
      "source": [
        "uf.persistence"
      ],
      "metadata": {
        "colab": {
          "base_uri": "https://localhost:8080/"
        },
        "id": "YKA_zxhzflEo",
        "outputId": "324b4a7d-d0f4-4f14-ddf2-cb5bd60669ef"
      },
      "execution_count": null,
      "outputs": [
        {
          "output_type": "execute_result",
          "data": {
            "text/plain": [
              "array([[-6.1,  inf],\n",
              "       [-5.1, -5. ]])"
            ]
          },
          "metadata": {},
          "execution_count": 8
        }
      ]
    },
    {
      "cell_type": "code",
      "source": [],
      "metadata": {
        "id": "lFJ00N0dfp4t"
      },
      "execution_count": null,
      "outputs": []
    }
  ]
}