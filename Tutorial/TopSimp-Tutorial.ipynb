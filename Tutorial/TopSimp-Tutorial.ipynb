{
 "cells": [
  {
   "cell_type": "markdown",
   "id": "195f3b0a-3b8a-46ae-8b54-70f287684d62",
   "metadata": {},
   "source": [
    "#TopSimp Tutorial"
   ]
  },
  {
   "cell_type": "markdown",
   "id": "ecfa02df-e332-4bca-8ee4-239a27fe8a68",
   "metadata": {},
   "source": [
    "(Under construction)"
   ]
  },
  {
   "cell_type": "code",
   "execution_count": 5,
   "id": "a7717b64-2bb8-48a0-afd8-ed529d1a672d",
   "metadata": {},
   "outputs": [],
   "source": [
    "import numpy as np\n",
    "import topsimp as ts"
   ]
  },
  {
   "cell_type": "code",
   "execution_count": 6,
   "id": "36db4cfb-c709-4009-975b-1f5f495e90a1",
   "metadata": {},
   "outputs": [
    {
     "name": "stdout",
     "output_type": "stream",
     "text": [
      "The new image is \n",
      " [[3 3 3]\n",
      " [4 5 0]] \n",
      "\n",
      "The original image's persistence was:\n",
      " [[ 0. inf]\n",
      " [ 1.  3.]]\n"
     ]
    }
   ],
   "source": [
    "img = np.array([[1,2,3], [4,5,0]])\n",
    "uf = ts.UnionFindImg(img)\n",
    "simplified_img = uf.compute(10)\n",
    "persistence = uf.get_presistence()\n",
    "print(f'The new image is \\n {simplified_img} \\n')\n",
    "print(f'The original image\\'s persistence was:\\n {persistence}')"
   ]
  },
  {
   "cell_type": "markdown",
   "id": "8ef66945-a570-4483-a7f1-7bd6c6e4a771",
   "metadata": {},
   "source": [
    "##Tutorial\n",
    "\n",
    "Before anything, run all the cells above.\n",
    "\n",
    "###Applying to images\n",
    "\n",
    "In both UnionFindImg and UnionFindImg_edges we need to pass an image as a 2D numpy array.\n",
    "\n",
    "\n",
    "####1D case\n",
    "\n",
    "Let us build a very simple example with the 1D function\n",
    "\n",
    "$$f:\\{0,1,2,3,4,5\\} \\rightarrow \\mathbb{R}$$\n",
    "$$\\hspace{6em}0\\mapsto 1$$\n",
    "$$\\hspace{6em}1\\mapsto 4$$\n",
    "$$\\hspace{6em}2\\mapsto 2$$\n",
    "$$\\hspace{6em}3\\mapsto 6$$\n",
    "$$\\hspace{6em}4\\mapsto 3$$\n",
    "$$\\hspace{6em}5\\mapsto 0$$\n",
    "\n",
    "this translates into the following array:\n",
    "\n"
   ]
  },
  {
   "cell_type": "code",
   "execution_count": 2,
   "id": "fd275828-c0d0-45f4-abb7-1ccfc98ec275",
   "metadata": {
    "tags": []
   },
   "outputs": [],
   "source": [
    "from skimage.transform import rescale, resize, downscale_local_mean\n",
    "import skimage"
   ]
  },
  {
   "cell_type": "code",
   "execution_count": 3,
   "id": "999d9328-4dc9-457c-be83-9d4ea31b3a9d",
   "metadata": {
    "tags": []
   },
   "outputs": [],
   "source": [
    "n=100\n",
    "img = resize(skimage.data.camera(),(n,n))"
   ]
  },
  {
   "cell_type": "code",
   "execution_count": null,
   "id": "f218090f-0729-47d0-bbf6-217f61b87bbc",
   "metadata": {},
   "outputs": [],
   "source": []
  }
 ],
 "metadata": {
  "kernelspec": {
   "display_name": "Python 3 (ipykernel)",
   "language": "python",
   "name": "python3"
  },
  "language_info": {
   "codemirror_mode": {
    "name": "ipython",
    "version": 3
   },
   "file_extension": ".py",
   "mimetype": "text/x-python",
   "name": "python",
   "nbconvert_exporter": "python",
   "pygments_lexer": "ipython3",
   "version": "3.11.5"
  }
 },
 "nbformat": 4,
 "nbformat_minor": 5
}
